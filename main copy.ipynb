{
 "cells": [
  {
   "attachments": {},
   "cell_type": "markdown",
   "id": "33e9a92f",
   "metadata": {},
   "source": [
    "# 6.8630 Final Project"
   ]
  },
  {
   "cell_type": "code",
   "execution_count": 125,
   "id": "d0942beb",
   "metadata": {},
   "outputs": [],
   "source": [
    "import numpy as np\n",
    "import matplotlib.pyplot as plt\n",
    "import nltk\n",
    "\n",
    "from tools import PcfgGrammar, PcfgGenerator, flatten_tree\n",
    "from tools.grammar import DynamicGrammar\n",
    "from nltk import Nonterminal\n",
    "from nltk.grammar import ProbabilisticProduction\n",
    "import random\n"
   ]
  },
  {
   "cell_type": "code",
   "execution_count": 126,
   "id": "03b02f3f",
   "metadata": {},
   "outputs": [],
   "source": [
    "main_grammar = PcfgGrammar.read_grammar(grammar_files=['./main-data/grammar/S1.gr', './main-data/grammar/S1_Vocab.gr'], allowed_words_file='./main-data/allowed_words.txt')"
   ]
  },
  {
   "attachments": {},
   "cell_type": "markdown",
   "id": "dc3a05f9",
   "metadata": {},
   "source": [
    "### Helper Functions"
   ]
  },
  {
   "cell_type": "code",
   "execution_count": 127,
   "id": "0c6a2ceb",
   "metadata": {},
   "outputs": [],
   "source": [
    "def parse_sentence(grammar, sentence, verbose=False):\n",
    "    tokens = sentence.split()\n",
    "    try:\n",
    "        tree = grammar.get_most_probable_parse(tokens)\n",
    "        if (tree is None) and verbose:\n",
    "            print(f'no parse tree found for `{sentence}`')\n",
    "        return tree\n",
    "    except ValueError as e:\n",
    "        if verbose:\n",
    "            print(f'cannot parse `{sentence}`')\n",
    "            print(e)\n",
    "        return None\n",
    "\n",
    "\n",
    "def parse_many_sentences(grammar, sentences, verbose=False):\n",
    "    parse_trees = []\n",
    "    for line in sentences:\n",
    "        parse_trees.append(parse_sentence(grammar, line, verbose))\n",
    "    return parse_trees\n",
    "\n",
    "\n",
    "def read_file_lines(text_file):\n",
    "    lines = []\n",
    "    with open(text_file, 'r') as f:\n",
    "        for line in f:\n",
    "            line = line.strip()\n",
    "            if line.startswith('#'):\n",
    "                continue  # comment\n",
    "            lines.append(line)\n",
    "    return lines\n",
    "\n",
    "\n",
    "def parse_file(grammar, text_file, verbose=False):\n",
    "    sentences = read_file_lines(text_file)\n",
    "    return parse_many_sentences(grammar, sentences, verbose)\n",
    "\n",
    "\n",
    "def cross_entropy_file(grammar, text_file, verbose=False):\n",
    "    return grammar.get_cross_entropy_over_sentences(read_file_lines(text_file), verbose)\n",
    "\n",
    "def generate_random_sentences(grammar, num_sentences=5, random_seed=None):\n",
    "    if random_seed is None:\n",
    "        random_seed = random.randint(0, 100)\n",
    "    gen = PcfgGenerator(grammar=grammar, random_seed=random_seed)\n",
    "    sample_parsed_trees = [gen.generate() for _ in range(num_sentences)]\n",
    "    sample_sentences = [\" \".join(flatten_tree(tree)) for tree in sample_parsed_trees]\n",
    "    return sample_sentences\n",
    "\n",
    "def combine_grammars(s1_grammar, s2_grammar, prob_start_to_s1=0.99):\n",
    "    dynamic_merged = DynamicGrammar(s1_grammar.productions() + s2_grammar.productions())\n",
    "    dynamic_merged.update_weight(lhs=Nonterminal(\"START\"), rhs=(Nonterminal(\"S1\"),), weight=prob_start_to_s1)\n",
    "    dynamic_merged.update_weight(lhs=Nonterminal(\"START\"), rhs=(Nonterminal(\"S2\"),), weight=1-prob_start_to_s1)\n",
    "    merged_grammar = dynamic_merged.get_pcfg_grammar()\n",
    "    return merged_grammar"
   ]
  },
  {
   "cell_type": "code",
   "execution_count": 128,
   "id": "8cbbb1e9",
   "metadata": {},
   "outputs": [],
   "source": [
    "def export_grammars(grammar, name):\n",
    "    ds1 = DynamicGrammar(grammar.productions())\n",
    "    ds1.update_weight(lhs=Nonterminal(\"START\"), rhs=(Nonterminal(\"SX\"),), weight=1) #does this work\n",
    "\n",
    "    ds1.export_to_file(vocab_filepath='./main-data/grammar/'+name+'-vocab.gr', rules_filepath='./main-data/grammar/'+name+'.gr') #can we remove the vocab\n",
    "\n",
    "def song_part_grammar(type):\n",
    "    train_productions = []\n",
    "    for sentence in open('./main-data/song-parts/'+type+'.sen', 'r'):\n",
    "        tokens = sentence.strip().split()\n",
    "        if main_grammar.can_parse(tokens):\n",
    "            tree = main_grammar.get_most_probable_parse(tokens)\n",
    "            train_productions.extend(tree.productions())\n",
    "\n",
    "    nltk_induced_grammar = nltk.induce_pcfg(main_grammar.start(), train_productions)\n",
    "\n",
    "    # create a new pcfg grammar\n",
    "    new_grammar = PcfgGrammar(productions=nltk_induced_grammar.productions())\n",
    "\n",
    "    export_grammars(new_grammar, type)"
   ]
  },
  {
   "cell_type": "code",
   "execution_count": 129,
   "id": "b9d66317",
   "metadata": {},
   "outputs": [],
   "source": [
    "#creates the grammar for all song parts\n",
    "def set_up():\n",
    "    song_part_grammar('intro')\n",
    "    song_part_grammar('verse')\n",
    "    song_part_grammar('chorus')\n",
    "    song_part_grammar('pre-chorus')\n",
    "    song_part_grammar('post-chorus')\n",
    "    song_part_grammar('hook')\n",
    "    song_part_grammar('bridge')\n",
    "    song_part_grammar('outro')\n",
    "    intro_grammar = PcfgGrammar.read_grammar(grammar_files=['./main-data/grammar/intro.gr', './main-data/grammar/intro-vocab.gr'], allowed_words_file='./main-data/allowed_words.txt')\n",
    "    verse_grammar = PcfgGrammar.read_grammar(grammar_files=['./main-data/grammar/verse.gr', './main-data/grammar/verse-vocab.gr'], allowed_words_file='./main-data/allowed_words.txt')\n",
    "    chorus_grammar = PcfgGrammar.read_grammar(grammar_files=['./main-data/grammar/chorus.gr', './main-data/grammar/chorus-vocab.gr'], allowed_words_file='./main-data/allowed_words.txt')\n",
    "    pre_chorus_grammar = PcfgGrammar.read_grammar(grammar_files=['./main-data/grammar/pre-chorus.gr', './main-data/grammar/pre-chorus-vocab.gr'], allowed_words_file='./main-data/allowed_words.txt')\n",
    "    bridge_grammar = PcfgGrammar.read_grammar(grammar_files=['./main-data/grammar/bridge.gr', './main-data/grammar/bridge-vocab.gr'], allowed_words_file='./main-data/allowed_words.txt')\n",
    "    hook_grammar = PcfgGrammar.read_grammar(grammar_files=['./main-data/grammar/hook.gr', './main-data/grammar/hook-vocab.gr'], allowed_words_file='./main-data/allowed_words.txt')\n",
    "    outro_grammar = PcfgGrammar.read_grammar(grammar_files=['./main-data/grammar/outro.gr', './main-data/grammar/outro-vocab.gr'], allowed_words_file='./main-data/allowed_words.txt')\n",
    "    return intro_grammar, verse_grammar, chorus_grammar, pre_chorus_grammar, bridge_grammar, hook_grammar, outro_grammar"
   ]
  },
  {
   "cell_type": "code",
   "execution_count": 130,
   "id": "7a175579",
   "metadata": {},
   "outputs": [],
   "source": [
    "def create_song(i, v1, pc, c, v2, b, h, o):\n",
    "    intro_grammar, verse_grammar, chorus_grammar, pre_chorus_grammar, bridge_grammar, hook_grammar, outro_grammar = set_up()\n",
    "    intro = generate_random_sentences(intro_grammar, num_sentences = i)\n",
    "    verse1 = generate_random_sentences(verse_grammar, num_sentences = v1)\n",
    "    pre_chorus = generate_random_sentences(pre_chorus_grammar, num_sentences = pc)\n",
    "    chorus = generate_random_sentences(chorus_grammar, num_sentences = c)\n",
    "    verse2 = generate_random_sentences(verse_grammar, num_sentences = v2)\n",
    "    bridge = generate_random_sentences(bridge_grammar, num_sentences = b)\n",
    "    hook = generate_random_sentences(hook_grammar, num_sentences = h)\n",
    "    outro = generate_random_sentences(outro_grammar, num_sentences = o)\n",
    "    output = []\n",
    "    return [[\"intro: \"] + intro , \n",
    "            [\"verse 1: \"] + verse1,  \n",
    "            [\"pre chorus: \"] + pre_chorus , \n",
    "            [\"chorus: \"] + chorus, \n",
    "            [\"verse 2: \"] + verse2 , \n",
    "            [\"pre chorus: \"] + pre_chorus, \n",
    "            [\"chorus: \"]+ chorus, \n",
    "            [\"bridge: \"] + bridge,\n",
    "            [\"hook: \"] + hook,\n",
    "            [\"chorus: \"] + chorus,\n",
    "            [\"outro: \"] + outro]"
   ]
  },
  {
   "cell_type": "code",
   "execution_count": 131,
   "id": "844f77cb",
   "metadata": {},
   "outputs": [
    {
     "data": {
      "text/plain": [
       "[['intro: ',\n",
       "  'ah-ah-ah , ah-ah-ah',\n",
       "  'one two three four',\n",
       "  'one two three four',\n",
       "  'one two three four',\n",
       "  'ah',\n",
       "  'one two three four',\n",
       "  'ah'],\n",
       " ['verse 1: ',\n",
       "  'but who spent the Christmas ?',\n",
       "  'all headphones said eighth grade easy',\n",
       "  'thought they',\n",
       "  \"we are about , 'cause some dances call mad of\",\n",
       "  'my kids',\n",
       "  \"I'm\"],\n",
       " ['pre chorus: ',\n",
       "  'kicking up Disney ?',\n",
       "  'am I bad for friend',\n",
       "  \"or I said she need I don't give a shit making\",\n",
       "  'they wanna go for hit'],\n",
       " ['chorus: ',\n",
       "  \"I'm made up , I'm after all talking out\",\n",
       "  \"talking up everybody , I'll be there outta you\",\n",
       "  \"I'm this great\",\n",
       "  \"and I'm fall for next time so it wanna like a scene one\",\n",
       "  \"boy I'm this famous to the today\",\n",
       "  \"wrong drama 's talking\"],\n",
       " ['verse 2: ',\n",
       "  \"I'm whole fuckin' real friends drove , I complain not good\",\n",
       "  \"your sparks didn't get seriously a finale\",\n",
       "  'I promise and find',\n",
       "  'a peace feel my mind on Netflix Trip',\n",
       "  'but are these two habits maybe , hardly',\n",
       "  'we crossed me'],\n",
       " ['pre chorus: ',\n",
       "  'kicking up Disney ?',\n",
       "  'am I bad for friend',\n",
       "  \"or I said she need I don't give a shit making\",\n",
       "  'they wanna go for hit'],\n",
       " ['chorus: ',\n",
       "  \"I'm made up , I'm after all talking out\",\n",
       "  \"talking up everybody , I'll be there outta you\",\n",
       "  \"I'm this great\",\n",
       "  \"and I'm fall for next time so it wanna like a scene one\",\n",
       "  \"boy I'm this famous to the today\",\n",
       "  \"wrong drama 's talking\"],\n",
       " ['bridge: ',\n",
       "  'or do my clicks want to be there to go when I go up ?',\n",
       "  'do my friends want to be there to fall how I see for ?',\n",
       "  \"you , that 's my kid with a ear\",\n",
       "  \"and I'm going for more friends\",\n",
       "  \"or that's how I wanna go\",\n",
       "  'do you want to be there to fall how I fall with ?',\n",
       "  \"my loud ear 's a little kid , and though I this year wait out\"],\n",
       " ['hook: ',\n",
       "  'hate , hate doing',\n",
       "  'keep it',\n",
       "  'no , hate doing',\n",
       "  'keep doing it , hate',\n",
       "  'hate'],\n",
       " ['chorus: ',\n",
       "  \"I'm made up , I'm after all talking out\",\n",
       "  \"talking up everybody , I'll be there outta you\",\n",
       "  \"I'm this great\",\n",
       "  \"and I'm fall for next time so it wanna like a scene one\",\n",
       "  \"boy I'm this famous to the today\",\n",
       "  \"wrong drama 's talking\"],\n",
       " ['outro: ',\n",
       "  'way on , way way with',\n",
       "  'what am I gonna do in me ?',\n",
       "  'I keep song but like',\n",
       "  \"so it's high to like I got I listen , it's good on tell it's\",\n",
       "  'but , who am I to feel me who home wanna go ?']]"
      ]
     },
     "execution_count": 131,
     "metadata": {},
     "output_type": "execute_result"
    }
   ],
   "source": [
    "create_song(7,6,4,6,6,7,5,5)"
   ]
  },
  {
   "attachments": {},
   "cell_type": "markdown",
   "id": "f5ae749b",
   "metadata": {},
   "source": [
    "#### Gustavo's songs:\n",
    "\n",
    "Come Hang Out (parsed)\n",
    "\n",
    "Drama (parsed)\n",
    "\n",
    "I'm not Famous (parsed)\n",
    "\n",
    "Three Thirty (parsed)\n",
    "\n",
    "Turning Out (parsed)\n",
    "\n",
    "The Good Part (parsed)"
   ]
  },
  {
   "cell_type": "code",
   "execution_count": 132,
   "id": "6cd12650",
   "metadata": {},
   "outputs": [],
   "source": [
    "#parsed_trees = parse_file(main_grammar, './main-data/songs/come-hang-out.sen', verbose=True)"
   ]
  },
  {
   "cell_type": "code",
   "execution_count": 133,
   "id": "eb8e39c9",
   "metadata": {},
   "outputs": [],
   "source": [
    "#parsed_trees = parse_file(main_grammar, './main-data/songs/drama.sen', verbose=True)"
   ]
  },
  {
   "cell_type": "code",
   "execution_count": 134,
   "id": "7354b989",
   "metadata": {},
   "outputs": [],
   "source": [
    "#parsed_trees = parse_file(main_grammar, './main-data/songs/im-not-famous.sen', verbose=True)"
   ]
  },
  {
   "cell_type": "code",
   "execution_count": 135,
   "id": "47a0e61f",
   "metadata": {},
   "outputs": [],
   "source": [
    "#parsed_trees = parse_file(main_grammar, './main-data/songs/three-thirty.sen', verbose=True)"
   ]
  },
  {
   "cell_type": "code",
   "execution_count": 136,
   "id": "e8d74303",
   "metadata": {},
   "outputs": [],
   "source": [
    "#parsed_trees = parse_file(main_grammar, './main-data/songs/turning-out.sen', verbose=True)"
   ]
  },
  {
   "cell_type": "code",
   "execution_count": 137,
   "id": "aa7d19bc",
   "metadata": {},
   "outputs": [],
   "source": [
    "#parsed_trees = parse_file(main_grammar, './main-data/songs/the-good-part.sen', verbose=True)"
   ]
  },
  {
   "attachments": {},
   "cell_type": "markdown",
   "id": "56a56733",
   "metadata": {},
   "source": [
    "#### Mckinley's Songs:"
   ]
  },
  {
   "cell_type": "code",
   "execution_count": 138,
   "id": "b5011ef3",
   "metadata": {},
   "outputs": [],
   "source": [
    "#parsed_trees = parse_file(s1_grammar, './main-data/songs/.sen', verbose=True)"
   ]
  },
  {
   "cell_type": "code",
   "execution_count": 139,
   "id": "109fc0a3",
   "metadata": {},
   "outputs": [],
   "source": [
    "parsed_trees = parse_file(main_grammar, './main-data/song-parts/intro.sen', verbose=True)\n",
    "parsed_trees = parse_file(main_grammar, './main-data/song-parts/verse.sen', verbose=True)\n",
    "parsed_trees = parse_file(main_grammar, './main-data/song-parts/chorus.sen', verbose=True)\n",
    "parsed_trees = parse_file(main_grammar, './main-data/song-parts/hook.sen', verbose=True)\n",
    "parsed_trees = parse_file(main_grammar, './main-data/song-parts/outro.sen', verbose=True)\n",
    "parsed_trees = parse_file(main_grammar, './main-data/song-parts/bridge.sen', verbose=True)\n",
    "parsed_trees = parse_file(main_grammar, './main-data/song-parts/pre-chorus.sen', verbose=True)\n",
    "parsed_trees = parse_file(main_grammar, './main-data/song-parts/post-chorus.sen', verbose=True)"
   ]
  }
 ],
 "metadata": {
  "kernelspec": {
   "display_name": "base",
   "language": "python",
   "name": "python3"
  },
  "language_info": {
   "codemirror_mode": {
    "name": "ipython",
    "version": 3
   },
   "file_extension": ".py",
   "mimetype": "text/x-python",
   "name": "python",
   "nbconvert_exporter": "python",
   "pygments_lexer": "ipython3",
   "version": "3.10.9"
  },
  "vscode": {
   "interpreter": {
    "hash": "cacf55d55b8da163cbba3334a255b453456a412439181a8a6764e2a8cb3484ce"
   }
  }
 },
 "nbformat": 4,
 "nbformat_minor": 5
}
