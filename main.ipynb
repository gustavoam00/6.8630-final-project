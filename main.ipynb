{
 "cells": [
  {
   "attachments": {},
   "cell_type": "markdown",
   "id": "33e9a92f",
   "metadata": {},
   "source": [
    "# 6.8630 Final Project"
   ]
  },
  {
   "cell_type": "code",
   "execution_count": 1158,
   "id": "d0942beb",
   "metadata": {},
   "outputs": [],
   "source": [
    "import numpy as np\n",
    "import matplotlib.pyplot as plt\n",
    "import nltk\n",
    "\n",
    "from tools import PcfgGrammar, PcfgGenerator, flatten_tree\n",
    "from tools.grammar import DynamicGrammar\n",
    "from nltk import Nonterminal\n",
    "from nltk.grammar import ProbabilisticProduction\n"
   ]
  },
  {
   "cell_type": "code",
   "execution_count": 1159,
   "id": "03b02f3f",
   "metadata": {},
   "outputs": [],
   "source": [
    "s1_grammar = PcfgGrammar.read_grammar(grammar_files=['./main-data/grammar/S1.gr', './main-data/grammar/S1_Vocab.gr'], allowed_words_file='./main-data/allowed_words.txt')\n",
    "#s2_grammar = PcfgGrammar.read_grammar(grammar_files=['./main-data/grammar/S2.gr', './main-data/grammar/S2_Vocab.gr'], allowed_words_file='./main-data/allowed_words.txt')\n",
    "\n",
    "#merged_grammar = PcfgGrammar.read_grammar(grammar_files=['./main-data/grammar/S1.gr','./main-data/grammar/S1_Vocab.gr','./main-data/grammar/S2.gr','./main-data/grammar/S2_Vocab.gr'], allowed_words_file='./main-data/allowed_words.txt')\n",
    "\n",
    "merged_grammar = s1_grammar"
   ]
  },
  {
   "attachments": {},
   "cell_type": "markdown",
   "id": "dc3a05f9",
   "metadata": {},
   "source": [
    "### Helper Functions"
   ]
  },
  {
   "cell_type": "code",
   "execution_count": 1160,
   "id": "0c6a2ceb",
   "metadata": {},
   "outputs": [],
   "source": [
    "def parse_sentence(grammar, sentence, verbose=False):\n",
    "    \"\"\"\n",
    "        returns the most probable parse\n",
    "        verbose=True prints errors if cannot parse a sentence\n",
    "    \"\"\"\n",
    "    tokens = sentence.split()\n",
    "    try:\n",
    "        tree = grammar.get_most_probable_parse(tokens)\n",
    "        if (tree is None) and verbose:\n",
    "            print(f'no parse tree found for `{sentence}`')\n",
    "        return tree\n",
    "    except ValueError as e:\n",
    "        if verbose:\n",
    "            print(f'cannot parse `{sentence}`')\n",
    "            print(e)\n",
    "        return None\n",
    "\n",
    "\n",
    "def parse_many_sentences(grammar, sentences, verbose=False):\n",
    "    \"\"\"\n",
    "        returns the most probable parse for a list of sentences\n",
    "        verbose=True prints errors if cannot parse a sentence\n",
    "    \"\"\"\n",
    "    parse_trees = []\n",
    "    for line in sentences:\n",
    "        parse_trees.append(parse_sentence(grammar, line, verbose))\n",
    "    return parse_trees\n",
    "\n",
    "\n",
    "def read_file_lines(text_file):\n",
    "    \"\"\"\n",
    "        reads the text_file\n",
    "        returns a list of uncommented lines\n",
    "    \"\"\"\n",
    "    lines = []\n",
    "    with open(text_file, 'r') as f:\n",
    "        for line in f:\n",
    "            line = line.strip()\n",
    "            if line.startswith('#'):\n",
    "                continue  # comment\n",
    "            lines.append(line)\n",
    "    return lines\n",
    "\n",
    "\n",
    "def parse_file(grammar, text_file, verbose=False):\n",
    "    \"\"\"\n",
    "        returns the most probable parse for sentences in the file\n",
    "        verbose=True prints errors if cannot parse a sentence\n",
    "    \"\"\"\n",
    "    sentences = read_file_lines(text_file)\n",
    "    return parse_many_sentences(grammar, sentences, verbose)\n",
    "\n",
    "\n",
    "def cross_entropy_file(grammar, text_file, verbose=False):\n",
    "    \"\"\"\n",
    "        returns the cross_entropy score of parse for sentences in the file\n",
    "        verbose=True prints errors if cannot parse a sentence\n",
    "    \"\"\"\n",
    "    return grammar.get_cross_entropy_over_sentences(read_file_lines(text_file), verbose)\n",
    "\n",
    "def generate_random_sentences(grammar, num_sentences=5, random_seed=0):\n",
    "    gen = PcfgGenerator(grammar=grammar, random_seed=random_seed)\n",
    "    sample_parsed_trees = [gen.generate() for _ in range(num_sentences)]\n",
    "    sample_sentences = [\" \".join(flatten_tree(tree)) for tree in sample_parsed_trees]\n",
    "    return sample_sentences\n",
    "\n",
    "def combine_grammars(s1_grammar, s2_grammar, prob_start_to_s1=0.99):\n",
    "    dynamic_merged = DynamicGrammar(s1_grammar.productions() + s2_grammar.productions())\n",
    "    dynamic_merged.update_weight(lhs=Nonterminal(\"START\"), rhs=(Nonterminal(\"S1\"),), weight=prob_start_to_s1)\n",
    "    dynamic_merged.update_weight(lhs=Nonterminal(\"START\"), rhs=(Nonterminal(\"S2\"),), weight=1-prob_start_to_s1)\n",
    "    merged_grammar = dynamic_merged.get_pcfg_grammar()\n",
    "    return merged_grammar\n",
    "\n",
    "def export_grammars(s1_grammar, s2_grammar, prob_start_to_s1=0.99):\n",
    "    ds1 = DynamicGrammar(s1_grammar.productions())\n",
    "    ds1.update_weight(lhs=Nonterminal(\"START\"), rhs=(Nonterminal(\"S1\"),), weight=prob_start_to_s1)\n",
    "\n",
    "    ds2 = DynamicGrammar(s2_grammar.productions())\n",
    "    ds2.update_weight(lhs=Nonterminal(\"START\"), rhs=(Nonterminal(\"S2\"),), weight=1-prob_start_to_s1)\n",
    "\n",
    "    ds1.export_to_file(vocab_filepath='new_S1_Vocab.gr', rules_filepath='new_S1.gr')\n",
    "    ds2.export_to_file(vocab_filepath='new_S2_Vocab.gr', rules_filepath='new_S2.gr')"
   ]
  },
  {
   "attachments": {},
   "cell_type": "markdown",
   "id": "f5ae749b",
   "metadata": {},
   "source": [
    "#### Gustavo's songs:\n",
    "\n",
    "Come hang out (parsed)\n",
    "\n",
    "Drama "
   ]
  },
  {
   "cell_type": "code",
   "execution_count": 1161,
   "id": "6cd12650",
   "metadata": {},
   "outputs": [],
   "source": [
    "parsed_trees = parse_file(s1_grammar, './main-data/songs/come-hang-out.sen', verbose=True)"
   ]
  },
  {
   "cell_type": "code",
   "execution_count": 1162,
   "id": "eb8e39c9",
   "metadata": {},
   "outputs": [
    {
     "name": "stdout",
     "output_type": "stream",
     "text": [
      "cannot parse `but it's so exciting to us`\n",
      "words [\"it's\", 'exciting'] are not in allowed words\n"
     ]
    }
   ],
   "source": [
    "parsed_trees = parse_file(s1_grammar, './main-data/songs/drama.sen', verbose=True)"
   ]
  },
  {
   "attachments": {},
   "cell_type": "markdown",
   "id": "56a56733",
   "metadata": {},
   "source": [
    "#### Mckinley's Songs:"
   ]
  },
  {
   "cell_type": "code",
   "execution_count": 1163,
   "id": "b5011ef3",
   "metadata": {},
   "outputs": [],
   "source": [
    "#parsed_trees = parse_file(s1_grammar, './main-data/songs/.sen', verbose=True)"
   ]
  },
  {
   "cell_type": "code",
   "execution_count": 1164,
   "id": "5d4ef527",
   "metadata": {},
   "outputs": [],
   "source": [
    "#generate_random_sentences(merged_grammar, num_sentences=10)"
   ]
  },
  {
   "cell_type": "code",
   "execution_count": 1165,
   "id": "d3f8d823",
   "metadata": {},
   "outputs": [
    {
     "data": {
      "image/svg+xml": [
       "<svg baseProfile=\"full\" height=\"264px\" preserveAspectRatio=\"xMidYMid meet\" style=\"font-family: times, serif; font-weight:normal; font-style: normal; font-size: 16px;\" version=\"1.1\" viewBox=\"0,0,256.0,264.0\" width=\"256px\" xmlns=\"http://www.w3.org/2000/svg\" xmlns:ev=\"http://www.w3.org/2001/xml-events\" xmlns:xlink=\"http://www.w3.org/1999/xlink\"><defs /><svg width=\"100%\" x=\"0\" y=\"0em\"><defs /><text text-anchor=\"middle\" x=\"50%\" y=\"1em\">START</text></svg><svg width=\"100%\" x=\"0%\" y=\"3em\"><defs /><svg width=\"100%\" x=\"0\" y=\"0em\"><defs /><text text-anchor=\"middle\" x=\"50%\" y=\"1em\">S1</text></svg><svg width=\"53.125%\" x=\"0%\" y=\"3em\"><defs /><svg width=\"100%\" x=\"0\" y=\"0em\"><defs /><text text-anchor=\"middle\" x=\"50%\" y=\"1em\">NPVP</text></svg><svg width=\"41.1765%\" x=\"0%\" y=\"3em\"><defs /><svg width=\"100%\" x=\"0\" y=\"0em\"><defs /><text text-anchor=\"middle\" x=\"50%\" y=\"1em\">we're</text></svg></svg><line stroke=\"black\" x1=\"50%\" x2=\"20.5882%\" y1=\"1.2em\" y2=\"3em\" /><svg width=\"58.8235%\" x=\"41.1765%\" y=\"3em\"><defs /><svg width=\"100%\" x=\"0\" y=\"0em\"><defs /><text text-anchor=\"middle\" x=\"50%\" y=\"1em\">Adj</text></svg><svg width=\"100%\" x=\"0%\" y=\"3em\"><defs /><svg width=\"100%\" x=\"0\" y=\"0em\"><defs /><text text-anchor=\"middle\" x=\"50%\" y=\"1em\">addicted</text></svg></svg><line stroke=\"black\" x1=\"50%\" x2=\"50%\" y1=\"1.2em\" y2=\"3em\" /></svg><line stroke=\"black\" x1=\"50%\" x2=\"70.5882%\" y1=\"1.2em\" y2=\"3em\" /></svg><line stroke=\"black\" x1=\"50%\" x2=\"26.5625%\" y1=\"1.2em\" y2=\"3em\" /><svg width=\"46.875%\" x=\"53.125%\" y=\"3em\"><defs /><svg width=\"100%\" x=\"0\" y=\"0em\"><defs /><text text-anchor=\"middle\" x=\"50%\" y=\"1em\">PP</text></svg><svg width=\"40%\" x=\"0%\" y=\"3em\"><defs /><svg width=\"100%\" x=\"0\" y=\"0em\"><defs /><text text-anchor=\"middle\" x=\"50%\" y=\"1em\">Prep</text></svg><svg width=\"100%\" x=\"0%\" y=\"3em\"><defs /><svg width=\"100%\" x=\"0\" y=\"0em\"><defs /><text text-anchor=\"middle\" x=\"50%\" y=\"1em\">to</text></svg></svg><line stroke=\"black\" x1=\"50%\" x2=\"50%\" y1=\"1.2em\" y2=\"3em\" /></svg><line stroke=\"black\" x1=\"50%\" x2=\"20%\" y1=\"1.2em\" y2=\"3em\" /><svg width=\"60%\" x=\"40%\" y=\"3em\"><defs /><svg width=\"100%\" x=\"0\" y=\"0em\"><defs /><text text-anchor=\"middle\" x=\"50%\" y=\"1em\">NPO</text></svg><svg width=\"100%\" x=\"0%\" y=\"3em\"><defs /><svg width=\"100%\" x=\"0\" y=\"0em\"><defs /><text text-anchor=\"middle\" x=\"50%\" y=\"1em\">NPX</text></svg><svg width=\"44.4444%\" x=\"0%\" y=\"3em\"><defs /><svg width=\"100%\" x=\"0\" y=\"0em\"><defs /><text text-anchor=\"middle\" x=\"50%\" y=\"1em\">it</text></svg></svg><line stroke=\"black\" x1=\"50%\" x2=\"22.2222%\" y1=\"1.2em\" y2=\"3em\" /><svg width=\"55.5556%\" x=\"44.4444%\" y=\"3em\"><defs /><svg width=\"100%\" x=\"0\" y=\"0em\"><defs /><text text-anchor=\"middle\" x=\"50%\" y=\"1em\">all</text></svg></svg><line stroke=\"black\" x1=\"50%\" x2=\"72.2222%\" y1=\"1.2em\" y2=\"3em\" /></svg><line stroke=\"black\" x1=\"50%\" x2=\"50%\" y1=\"1.2em\" y2=\"3em\" /></svg><line stroke=\"black\" x1=\"50%\" x2=\"70%\" y1=\"1.2em\" y2=\"3em\" /></svg><line stroke=\"black\" x1=\"50%\" x2=\"76.5625%\" y1=\"1.2em\" y2=\"3em\" /></svg><line stroke=\"black\" x1=\"50%\" x2=\"50%\" y1=\"1.2em\" y2=\"3em\" /></svg>"
      ],
      "text/plain": [
       "ProbabilisticTree('START', [ProbabilisticTree('S1', [ProbabilisticTree('NPVP', [\"we're\", ProbabilisticTree('Adj', ['addicted']) (p=0.09090909090909088)]) (p=0.0053475935828876985), ProbabilisticTree('PP', [ProbabilisticTree('Prep', ['to']) (p=0.045454545454545456), ProbabilisticTree('NPO', [ProbabilisticTree('NPX', ['it', 'all']) (p=0.06666666666666665)]) (p=0.033333333333333326)]) (p=0.0004810004810004809)]) (p=9.526648465052094e-08)]) (p=5.603910861795348e-08)"
      ]
     },
     "execution_count": 1165,
     "metadata": {},
     "output_type": "execute_result"
    }
   ],
   "source": [
    "parse_sentence(merged_grammar, \"maybe we're addicted to it all\", verbose = True)"
   ]
  }
 ],
 "metadata": {
  "kernelspec": {
   "display_name": "base",
   "language": "python",
   "name": "python3"
  },
  "language_info": {
   "codemirror_mode": {
    "name": "ipython",
    "version": 3
   },
   "file_extension": ".py",
   "mimetype": "text/x-python",
   "name": "python",
   "nbconvert_exporter": "python",
   "pygments_lexer": "ipython3",
   "version": "3.9.13"
  },
  "vscode": {
   "interpreter": {
    "hash": "cacf55d55b8da163cbba3334a255b453456a412439181a8a6764e2a8cb3484ce"
   }
  }
 },
 "nbformat": 4,
 "nbformat_minor": 5
}
