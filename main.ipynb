{
 "cells": [
  {
   "attachments": {},
   "cell_type": "markdown",
   "id": "33e9a92f",
   "metadata": {},
   "source": [
    "# 6.8630 Final Project"
   ]
  },
  {
   "cell_type": "code",
<<<<<<< HEAD
   "execution_count": 12,
=======
   "execution_count": 4601,
>>>>>>> a49d5df9b8875a5b85526b0457c789a125b7fc9e
   "id": "d0942beb",
   "metadata": {},
   "outputs": [],
   "source": [
    "import numpy as np\n",
    "import matplotlib.pyplot as plt\n",
    "import nltk\n",
    "\n",
    "from tools import PcfgGrammar, PcfgGenerator, flatten_tree\n",
    "from tools.grammar import DynamicGrammar\n",
    "from nltk import Nonterminal\n",
    "from nltk.grammar import ProbabilisticProduction\n"
   ]
  },
  {
   "cell_type": "code",
<<<<<<< HEAD
   "execution_count": 13,
=======
   "execution_count": 4602,
>>>>>>> a49d5df9b8875a5b85526b0457c789a125b7fc9e
   "id": "03b02f3f",
   "metadata": {},
   "outputs": [],
   "source": [
    "main_grammar = PcfgGrammar.read_grammar(grammar_files=['./main-data/grammar/grammar.gr', './main-data/grammar/grammar_vocab.gr'], allowed_words_file='./main-data/allowed_words.txt')"
   ]
  },
  {
   "attachments": {},
   "cell_type": "markdown",
   "id": "dc3a05f9",
   "metadata": {},
   "source": [
    "### Helper Functions"
   ]
  },
  {
   "cell_type": "code",
<<<<<<< HEAD
   "execution_count": 14,
=======
   "execution_count": 4603,
>>>>>>> a49d5df9b8875a5b85526b0457c789a125b7fc9e
   "id": "0c6a2ceb",
   "metadata": {},
   "outputs": [],
   "source": [
    "def parse_sentence(grammar, sentence, verbose=False):\n",
    "    tokens = sentence.split()\n",
    "    try:\n",
    "        tree = grammar.get_most_probable_parse(tokens)\n",
    "        if (tree is None) and verbose:\n",
    "            print(f'no parse tree found for `{sentence}`')\n",
    "        return tree\n",
    "    except ValueError as e:\n",
    "        if verbose:\n",
    "            print(f'cannot parse `{sentence}`')\n",
    "            print(e)\n",
    "        return None\n",
    "\n",
    "\n",
    "def parse_many_sentences(grammar, sentences, verbose=False):\n",
    "    parse_trees = []\n",
    "    for line in sentences:\n",
    "        parse_trees.append(parse_sentence(grammar, line, verbose))\n",
    "    return parse_trees\n",
    "\n",
    "\n",
    "def read_file_lines(text_file):\n",
    "    lines = []\n",
    "    with open(text_file, 'r') as f:\n",
    "        for line in f:\n",
    "            line = line.strip()\n",
    "            if line.startswith('#'):\n",
    "                continue  # comment\n",
    "            lines.append(line)\n",
    "    return lines\n",
    "\n",
    "\n",
    "def parse_file(grammar, text_file, verbose=False):\n",
    "    sentences = read_file_lines(text_file)\n",
    "    return parse_many_sentences(grammar, sentences, verbose)\n",
    "\n",
    "\n",
    "def cross_entropy_file(grammar, text_file, verbose=False):\n",
    "    return grammar.get_cross_entropy_over_sentences(read_file_lines(text_file), verbose)\n",
    "\n",
    "def generate_random_sentences(grammar, num_sentences=5, random_seed=0):\n",
    "    gen = PcfgGenerator(grammar=grammar, random_seed=random_seed)\n",
    "    sample_parsed_trees = [gen.generate() for _ in range(num_sentences)]\n",
    "    sample_sentences = [\" \".join(flatten_tree(tree)) for tree in sample_parsed_trees]\n",
    "    return sample_sentences"
   ]
  },
  {
   "cell_type": "code",
   "execution_count": 15,
   "id": "cace7a76",
   "metadata": {},
   "outputs": [],
   "source": [
    "def export_grammars(grammar, name):\n",
    "    ds1 = DynamicGrammar(grammar.productions())\n",
    "    ds1.update_weight(lhs=Nonterminal(\"START\"), rhs=(Nonterminal(\"SX\"),), weight=1) #does this work\n",
    "\n",
    "    ds1.export_to_file(vocab_filepath='./main-data/grammar/'+name+'-vocab.gr', rules_filepath='./main-data/grammar/'+name+'.gr') #can we remove the vocab\n",
    "\n",
    "def song_part_grammar(type):\n",
    "    train_productions = []\n",
    "    for sentence in open('./main-data/song-parts/'+type+'.sen', 'r'):\n",
    "        tokens = sentence.strip().split()\n",
    "        if main_grammar.can_parse(tokens):\n",
    "            tree = main_grammar.get_most_probable_parse(tokens)\n",
    "            train_productions.extend(tree.productions())\n",
    "\n",
    "    nltk_induced_grammar = nltk.induce_pcfg(main_grammar.start(), train_productions)\n",
    "\n",
    "    # create a new pcfg grammar\n",
    "    new_grammar = PcfgGrammar(productions=nltk_induced_grammar.productions())\n",
    "\n",
    "    export_grammars(new_grammar, type)"
   ]
  },
  {
   "cell_type": "code",
   "execution_count": 16,
   "id": "124d49d5",
   "metadata": {},
   "outputs": [],
   "source": [
    "#creates the grammar for all song parts\n",
    "def set_up():\n",
    "    song_part_grammar('intro')\n",
    "    song_part_grammar('verse')\n",
    "    song_part_grammar('chorus')\n",
    "    song_part_grammar('pre-chorus')\n",
    "    song_part_grammar('post-chorus')\n",
    "    song_part_grammar('hook')\n",
    "    song_part_grammar('bridge')\n",
    "    song_part_grammar('outro')\n",
    "    intro_grammar = PcfgGrammar.read_grammar(grammar_files=['./main-data/grammar/intro.gr', './main-data/grammar/intro-vocab.gr'], allowed_words_file='./main-data/allowed_words.txt')\n",
    "    verse_grammar = PcfgGrammar.read_grammar(grammar_files=['./main-data/grammar/verse.gr', './main-data/grammar/verse-vocab.gr'], allowed_words_file='./main-data/allowed_words.txt')\n",
    "    chorus_grammar = PcfgGrammar.read_grammar(grammar_files=['./main-data/grammar/chorus.gr', './main-data/grammar/chorus-vocab.gr'], allowed_words_file='./main-data/allowed_words.txt')\n",
    "    pre_chorus_grammar = PcfgGrammar.read_grammar(grammar_files=['./main-data/grammar/pre-chorus.gr', './main-data/grammar/pre-chorus-vocab.gr'], allowed_words_file='./main-data/allowed_words.txt')\n",
    "    bridge_grammar = PcfgGrammar.read_grammar(grammar_files=['./main-data/grammar/bridge.gr', './main-data/grammar/bridge-vocab.gr'], allowed_words_file='./main-data/allowed_words.txt')\n",
    "    hook_grammar = PcfgGrammar.read_grammar(grammar_files=['./main-data/grammar/hook.gr', './main-data/grammar/hook-vocab.gr'], allowed_words_file='./main-data/allowed_words.txt')\n",
    "    outro_grammar = PcfgGrammar.read_grammar(grammar_files=['./main-data/grammar/outro.gr', './main-data/grammar/outro-vocab.gr'], allowed_words_file='./main-data/allowed_words.txt')\n",
    "    \n",
    "    return intro_grammar, verse_grammar, chorus_grammar, pre_chorus_grammar, bridge_grammar, hook_grammar, outro_grammar"
   ]
  },
  {
   "cell_type": "code",
   "execution_count": 17,
   "id": "e3ecf495",
   "metadata": {},
   "outputs": [],
   "source": [
    "def create_song(i, v1, pc, c, v2, b, h, o):\n",
    "    intro_grammar, verse_grammar, chorus_grammar, pre_chorus_grammar, bridge_grammar, hook_grammar, outro_grammar = set_up()\n",
    "    intro = generate_random_sentences(intro_grammar, num_sentences = i)\n",
    "    verse1 = generate_random_sentences(verse_grammar, num_sentences = v1)\n",
    "    pre_chorus = generate_random_sentences(pre_chorus_grammar, num_sentences = pc)\n",
    "    chorus = generate_random_sentences(chorus_grammar, num_sentences = c)\n",
    "    verse2 = generate_random_sentences(verse_grammar, num_sentences = v2)\n",
    "    bridge = generate_random_sentences(bridge_grammar, num_sentences = b)\n",
    "    hook = generate_random_sentences(hook_grammar, num_sentences = h)\n",
    "    outro = generate_random_sentences(outro_grammar, num_sentences = o)\n",
    "\n",
    "    return [intro, verse1, pre_chorus, chorus, verse2, pre_chorus, chorus, bridge, hook, chorus, outro]"
   ]
  },
  {
   "attachments": {},
   "cell_type": "markdown",
   "id": "f5ae749b",
   "metadata": {},
   "source": [
    "#### Gustavo's songs:\n",
    "\n",
    "Come Hang Out (parsed)\n",
    "\n",
    "Drama (parsed)\n",
    "\n",
    "I'm not Famous (parsed)\n",
    "\n",
    "Three Thirty (parsed)\n",
    "\n",
    "Turning Out (parsed)\n",
    "\n",
    "The Good Part (parsed)"
   ]
  },
  {
   "cell_type": "code",
<<<<<<< HEAD
   "execution_count": 18,
=======
   "execution_count": 4604,
>>>>>>> a49d5df9b8875a5b85526b0457c789a125b7fc9e
   "id": "6cd12650",
   "metadata": {},
   "outputs": [],
   "source": [
    "parsed_trees = parse_file(main_grammar, './main-data/songs/come-hang-out.sen', verbose=True)"
   ]
  },
  {
   "cell_type": "code",
<<<<<<< HEAD
   "execution_count": 19,
=======
   "execution_count": 4605,
>>>>>>> a49d5df9b8875a5b85526b0457c789a125b7fc9e
   "id": "eb8e39c9",
   "metadata": {},
   "outputs": [],
   "source": [
    "parsed_trees = parse_file(main_grammar, './main-data/songs/drama.sen', verbose=True)"
   ]
  },
  {
   "cell_type": "code",
<<<<<<< HEAD
   "execution_count": 20,
=======
   "execution_count": 4606,
>>>>>>> a49d5df9b8875a5b85526b0457c789a125b7fc9e
   "id": "7354b989",
   "metadata": {},
   "outputs": [],
   "source": [
    "parsed_trees = parse_file(main_grammar, './main-data/songs/im-not-famous.sen', verbose=True)"
   ]
  },
  {
   "cell_type": "code",
<<<<<<< HEAD
   "execution_count": 21,
=======
   "execution_count": 4607,
>>>>>>> a49d5df9b8875a5b85526b0457c789a125b7fc9e
   "id": "47a0e61f",
   "metadata": {},
   "outputs": [],
   "source": [
    "parsed_trees = parse_file(main_grammar, './main-data/songs/three-thirty.sen', verbose=True)"
   ]
  },
  {
   "cell_type": "code",
<<<<<<< HEAD
   "execution_count": 22,
=======
   "execution_count": 4608,
>>>>>>> a49d5df9b8875a5b85526b0457c789a125b7fc9e
   "id": "e8d74303",
   "metadata": {},
   "outputs": [],
   "source": [
    "parsed_trees = parse_file(main_grammar, './main-data/songs/turning-out.sen', verbose=True)"
   ]
  },
  {
   "cell_type": "code",
<<<<<<< HEAD
   "execution_count": 23,
=======
   "execution_count": 4609,
>>>>>>> a49d5df9b8875a5b85526b0457c789a125b7fc9e
   "id": "aa7d19bc",
   "metadata": {},
   "outputs": [],
   "source": [
    "parsed_trees = parse_file(main_grammar, './main-data/songs/the-good-part.sen', verbose=True)"
   ]
  },
  {
   "attachments": {},
   "cell_type": "markdown",
   "id": "56a56733",
   "metadata": {},
   "source": [
    "#### Mckinley's Songs:\n",
    "\n",
    "Bud Like You (parsed)\n",
    "\n",
    "Call My Dad (parsed)\n",
    "\n",
    "No Grass Today (parsed)\n",
    "\n",
    "Netflix Trip (parsed)\n",
    "\n",
    "Sober Up (parsed)\n",
    "\n",
    "Weak (parsed)"
   ]
  },
  {
   "cell_type": "code",
<<<<<<< HEAD
   "execution_count": 24,
=======
   "execution_count": 4610,
>>>>>>> a49d5df9b8875a5b85526b0457c789a125b7fc9e
   "id": "7cc8ad21",
   "metadata": {},
   "outputs": [],
   "source": [
    "parsed_trees = parse_file(main_grammar, './main-data/songs/bud-like-you.sen', verbose=True)"
   ]
  },
  {
   "cell_type": "code",
<<<<<<< HEAD
   "execution_count": 25,
=======
   "execution_count": 4611,
>>>>>>> a49d5df9b8875a5b85526b0457c789a125b7fc9e
   "id": "5b4203c4",
   "metadata": {},
   "outputs": [],
   "source": [
    "parsed_trees = parse_file(main_grammar, './main-data/songs/call-my-dad.sen', verbose=True)"
   ]
  },
  {
   "cell_type": "code",
<<<<<<< HEAD
   "execution_count": 26,
=======
   "execution_count": 4612,
>>>>>>> a49d5df9b8875a5b85526b0457c789a125b7fc9e
   "id": "c44309df",
   "metadata": {},
   "outputs": [],
   "source": [
    "parsed_trees = parse_file(main_grammar, './main-data/songs/no-grass-today.sen', verbose=True)"
   ]
  },
  {
   "cell_type": "code",
<<<<<<< HEAD
   "execution_count": 27,
=======
   "execution_count": 4613,
>>>>>>> a49d5df9b8875a5b85526b0457c789a125b7fc9e
   "id": "3db8bd8e",
   "metadata": {},
   "outputs": [],
   "source": [
    "parsed_trees = parse_file(main_grammar, './main-data/songs/netflix-trip.sen', verbose=True)"
   ]
  },
  {
   "cell_type": "code",
<<<<<<< HEAD
   "execution_count": 28,
=======
   "execution_count": 4614,
>>>>>>> a49d5df9b8875a5b85526b0457c789a125b7fc9e
   "id": "9b4d87f1",
   "metadata": {},
   "outputs": [],
   "source": [
    "parsed_trees = parse_file(main_grammar, './main-data/songs/sober-up.sen', verbose=True)"
   ]
  },
  {
   "cell_type": "code",
<<<<<<< HEAD
   "execution_count": 29,
=======
   "execution_count": 4615,
>>>>>>> a49d5df9b8875a5b85526b0457c789a125b7fc9e
   "id": "1a0c597b",
   "metadata": {},
   "outputs": [],
   "source": [
    "parsed_trees = parse_file(main_grammar, './main-data/songs/weak.sen', verbose=True)"
   ]
<<<<<<< HEAD
=======
  },
  {
   "cell_type": "code",
   "execution_count": 4616,
   "id": "b5011ef3",
   "metadata": {},
   "outputs": [],
   "source": [
    "#parsed_trees = parse_file(s1_grammar, './main-data/songs/.sen', verbose=True)"
   ]
  },
  {
   "cell_type": "code",
   "execution_count": 4617,
   "id": "5d4ef527",
   "metadata": {},
   "outputs": [],
   "source": [
    "#generate_random_sentences(merged_grammar, num_sentences=10)"
   ]
  },
  {
   "cell_type": "code",
   "execution_count": 4618,
   "id": "d3f8d823",
   "metadata": {},
   "outputs": [
    {
     "data": {
      "image/svg+xml": [
       "<svg baseProfile=\"full\" height=\"360px\" preserveAspectRatio=\"xMidYMid meet\" style=\"font-family: times, serif; font-weight:normal; font-style: normal; font-size: 16px;\" version=\"1.1\" viewBox=\"0,0,192.0,360.0\" width=\"192px\" xmlns=\"http://www.w3.org/2000/svg\" xmlns:ev=\"http://www.w3.org/2001/xml-events\" xmlns:xlink=\"http://www.w3.org/1999/xlink\"><defs /><svg width=\"100%\" x=\"0\" y=\"0em\"><defs /><text text-anchor=\"middle\" x=\"50%\" y=\"1em\">START</text></svg><svg width=\"100%\" x=\"0%\" y=\"3em\"><defs /><svg width=\"100%\" x=\"0\" y=\"0em\"><defs /><text text-anchor=\"middle\" x=\"50%\" y=\"1em\">SX</text></svg><svg width=\"100%\" x=\"0%\" y=\"3em\"><defs /><svg width=\"100%\" x=\"0\" y=\"0em\"><defs /><text text-anchor=\"middle\" x=\"50%\" y=\"1em\">S2</text></svg><svg width=\"100%\" x=\"0%\" y=\"3em\"><defs /><svg width=\"100%\" x=\"0\" y=\"0em\"><defs /><text text-anchor=\"middle\" x=\"50%\" y=\"1em\">Q</text></svg><svg width=\"29.1667%\" x=\"0%\" y=\"3em\"><defs /><svg width=\"100%\" x=\"0\" y=\"0em\"><defs /><text text-anchor=\"middle\" x=\"50%\" y=\"1em\">why's</text></svg></svg><line stroke=\"black\" x1=\"50%\" x2=\"14.5833%\" y1=\"1.2em\" y2=\"3em\" /><svg width=\"45.8333%\" x=\"29.1667%\" y=\"3em\"><defs /><svg width=\"100%\" x=\"0\" y=\"0em\"><defs /><text text-anchor=\"middle\" x=\"50%\" y=\"1em\">NPX</text></svg><svg width=\"45.4545%\" x=\"0%\" y=\"3em\"><defs /><svg width=\"100%\" x=\"0\" y=\"0em\"><defs /><text text-anchor=\"middle\" x=\"50%\" y=\"1em\">Det</text></svg><svg width=\"100%\" x=\"0%\" y=\"3em\"><defs /><svg width=\"100%\" x=\"0\" y=\"0em\"><defs /><text text-anchor=\"middle\" x=\"50%\" y=\"1em\">the</text></svg></svg><line stroke=\"black\" x1=\"50%\" x2=\"50%\" y1=\"1.2em\" y2=\"3em\" /></svg><line stroke=\"black\" x1=\"50%\" x2=\"22.7273%\" y1=\"1.2em\" y2=\"3em\" /><svg width=\"54.5455%\" x=\"45.4545%\" y=\"3em\"><defs /><svg width=\"100%\" x=\"0\" y=\"0em\"><defs /><text text-anchor=\"middle\" x=\"50%\" y=\"1em\">Nbar</text></svg><svg width=\"100%\" x=\"0%\" y=\"3em\"><defs /><svg width=\"100%\" x=\"0\" y=\"0em\"><defs /><text text-anchor=\"middle\" x=\"50%\" y=\"1em\">Noun</text></svg><svg width=\"100%\" x=\"0%\" y=\"3em\"><defs /><svg width=\"100%\" x=\"0\" y=\"0em\"><defs /><text text-anchor=\"middle\" x=\"50%\" y=\"1em\">DJ</text></svg></svg><line stroke=\"black\" x1=\"50%\" x2=\"50%\" y1=\"1.2em\" y2=\"3em\" /></svg><line stroke=\"black\" x1=\"50%\" x2=\"50%\" y1=\"1.2em\" y2=\"3em\" /></svg><line stroke=\"black\" x1=\"50%\" x2=\"72.7273%\" y1=\"1.2em\" y2=\"3em\" /></svg><line stroke=\"black\" x1=\"50%\" x2=\"52.0833%\" y1=\"1.2em\" y2=\"3em\" /><svg width=\"25%\" x=\"75%\" y=\"3em\"><defs /><svg width=\"100%\" x=\"0\" y=\"0em\"><defs /><text text-anchor=\"middle\" x=\"50%\" y=\"1em\">Exp</text></svg><svg width=\"100%\" x=\"0%\" y=\"3em\"><defs /><svg width=\"100%\" x=\"0\" y=\"0em\"><defs /><text text-anchor=\"middle\" x=\"50%\" y=\"1em\">here</text></svg></svg><line stroke=\"black\" x1=\"50%\" x2=\"50%\" y1=\"1.2em\" y2=\"3em\" /></svg><line stroke=\"black\" x1=\"50%\" x2=\"87.5%\" y1=\"1.2em\" y2=\"3em\" /></svg><line stroke=\"black\" x1=\"50%\" x2=\"50%\" y1=\"1.2em\" y2=\"3em\" /></svg><line stroke=\"black\" x1=\"50%\" x2=\"50%\" y1=\"1.2em\" y2=\"3em\" /></svg><line stroke=\"black\" x1=\"50%\" x2=\"50%\" y1=\"1.2em\" y2=\"3em\" /></svg>"
      ],
      "text/plain": [
       "ProbabilisticTree('START', [ProbabilisticTree('SX', [ProbabilisticTree('S2', [ProbabilisticTree('Q', [\"why's\", ProbabilisticTree('NPX', [ProbabilisticTree('Det', ['the']) (p=0.09090909090909088), ProbabilisticTree('Nbar', [ProbabilisticTree('Noun', ['DJ']) (p=0.008196721311475407)]) (p=0.0063051702395964665)]) (p=0.0002729510926232236), ProbabilisticTree('Exp', ['here']) (p=0.5)]) (p=2.7852152308492153e-06)]) (p=9.947197253032902e-08)]) (p=1.9129225486601745e-08)]) (p=1.9129225486601745e-08)"
      ]
     },
     "execution_count": 4618,
     "metadata": {},
     "output_type": "execute_result"
    }
   ],
   "source": [
    "parse_sentence(merged_grammar, \"why's the DJ here\", verbose = True)"
   ]
  },
  {
   "cell_type": "code",
   "execution_count": null,
   "id": "9b459175",
   "metadata": {},
   "outputs": [],
   "source": []
>>>>>>> a49d5df9b8875a5b85526b0457c789a125b7fc9e
  }
 ],
 "metadata": {
  "kernelspec": {
   "display_name": "base",
   "language": "python",
   "name": "python3"
  },
  "language_info": {
   "codemirror_mode": {
    "name": "ipython",
    "version": 3
   },
   "file_extension": ".py",
   "mimetype": "text/x-python",
   "name": "python",
   "nbconvert_exporter": "python",
   "pygments_lexer": "ipython3",
   "version": "3.10.9"
  },
  "vscode": {
   "interpreter": {
    "hash": "cacf55d55b8da163cbba3334a255b453456a412439181a8a6764e2a8cb3484ce"
   }
  }
 },
 "nbformat": 4,
 "nbformat_minor": 5
}
