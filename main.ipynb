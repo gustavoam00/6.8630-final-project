{
 "cells": [
  {
   "attachments": {},
   "cell_type": "markdown",
   "id": "33e9a92f",
   "metadata": {},
   "source": [
    "# 6.8630 Final Project"
   ]
  },
  {
   "cell_type": "code",
   "execution_count": 3229,
   "id": "d0942beb",
   "metadata": {},
   "outputs": [],
   "source": [
    "import numpy as np\n",
    "import matplotlib.pyplot as plt\n",
    "import nltk\n",
    "\n",
    "from tools import PcfgGrammar, PcfgGenerator, flatten_tree\n",
    "from tools.grammar import DynamicGrammar\n",
    "from nltk import Nonterminal\n",
    "from nltk.grammar import ProbabilisticProduction\n"
   ]
  },
  {
   "cell_type": "code",
   "execution_count": 3230,
   "id": "03b02f3f",
   "metadata": {},
   "outputs": [],
   "source": [
    "s1_grammar = PcfgGrammar.read_grammar(grammar_files=['./main-data/grammar/S1.gr', './main-data/grammar/S1_Vocab.gr'], allowed_words_file='./main-data/allowed_words.txt')\n",
    "#s2_grammar = PcfgGrammar.read_grammar(grammar_files=['./main-data/grammar/S2.gr', './main-data/grammar/S2_Vocab.gr'], allowed_words_file='./main-data/allowed_words.txt')\n",
    "\n",
    "#merged_grammar = PcfgGrammar.read_grammar(grammar_files=['./main-data/grammar/S1.gr','./main-data/grammar/S1_Vocab.gr','./main-data/grammar/S2.gr','./main-data/grammar/S2_Vocab.gr'], allowed_words_file='./main-data/allowed_words.txt')\n",
    "\n",
    "merged_grammar = s1_grammar"
   ]
  },
  {
   "attachments": {},
   "cell_type": "markdown",
   "id": "dc3a05f9",
   "metadata": {},
   "source": [
    "### Helper Functions"
   ]
  },
  {
   "cell_type": "code",
   "execution_count": 3231,
   "id": "0c6a2ceb",
   "metadata": {},
   "outputs": [],
   "source": [
    "def parse_sentence(grammar, sentence, verbose=False):\n",
    "    \"\"\"\n",
    "        returns the most probable parse\n",
    "        verbose=True prints errors if cannot parse a sentence\n",
    "    \"\"\"\n",
    "    tokens = sentence.split()\n",
    "    try:\n",
    "        tree = grammar.get_most_probable_parse(tokens)\n",
    "        if (tree is None) and verbose:\n",
    "            print(f'no parse tree found for `{sentence}`')\n",
    "        return tree\n",
    "    except ValueError as e:\n",
    "        if verbose:\n",
    "            print(f'cannot parse `{sentence}`')\n",
    "            print(e)\n",
    "        return None\n",
    "\n",
    "\n",
    "def parse_many_sentences(grammar, sentences, verbose=False):\n",
    "    \"\"\"\n",
    "        returns the most probable parse for a list of sentences\n",
    "        verbose=True prints errors if cannot parse a sentence\n",
    "    \"\"\"\n",
    "    parse_trees = []\n",
    "    for line in sentences:\n",
    "        parse_trees.append(parse_sentence(grammar, line, verbose))\n",
    "    return parse_trees\n",
    "\n",
    "\n",
    "def read_file_lines(text_file):\n",
    "    \"\"\"\n",
    "        reads the text_file\n",
    "        returns a list of uncommented lines\n",
    "    \"\"\"\n",
    "    lines = []\n",
    "    with open(text_file, 'r') as f:\n",
    "        for line in f:\n",
    "            line = line.strip()\n",
    "            if line.startswith('#'):\n",
    "                continue  # comment\n",
    "            lines.append(line)\n",
    "    return lines\n",
    "\n",
    "\n",
    "def parse_file(grammar, text_file, verbose=False):\n",
    "    \"\"\"\n",
    "        returns the most probable parse for sentences in the file\n",
    "        verbose=True prints errors if cannot parse a sentence\n",
    "    \"\"\"\n",
    "    sentences = read_file_lines(text_file)\n",
    "    return parse_many_sentences(grammar, sentences, verbose)\n",
    "\n",
    "\n",
    "def cross_entropy_file(grammar, text_file, verbose=False):\n",
    "    \"\"\"\n",
    "        returns the cross_entropy score of parse for sentences in the file\n",
    "        verbose=True prints errors if cannot parse a sentence\n",
    "    \"\"\"\n",
    "    return grammar.get_cross_entropy_over_sentences(read_file_lines(text_file), verbose)\n",
    "\n",
    "def generate_random_sentences(grammar, num_sentences=5, random_seed=0):\n",
    "    gen = PcfgGenerator(grammar=grammar, random_seed=random_seed)\n",
    "    sample_parsed_trees = [gen.generate() for _ in range(num_sentences)]\n",
    "    sample_sentences = [\" \".join(flatten_tree(tree)) for tree in sample_parsed_trees]\n",
    "    return sample_sentences\n",
    "\n",
    "def combine_grammars(s1_grammar, s2_grammar, prob_start_to_s1=0.99):\n",
    "    dynamic_merged = DynamicGrammar(s1_grammar.productions() + s2_grammar.productions())\n",
    "    dynamic_merged.update_weight(lhs=Nonterminal(\"START\"), rhs=(Nonterminal(\"S1\"),), weight=prob_start_to_s1)\n",
    "    dynamic_merged.update_weight(lhs=Nonterminal(\"START\"), rhs=(Nonterminal(\"S2\"),), weight=1-prob_start_to_s1)\n",
    "    merged_grammar = dynamic_merged.get_pcfg_grammar()\n",
    "    return merged_grammar\n",
    "\n",
    "def export_grammars(s1_grammar, s2_grammar, prob_start_to_s1=0.99):\n",
    "    ds1 = DynamicGrammar(s1_grammar.productions())\n",
    "    ds1.update_weight(lhs=Nonterminal(\"START\"), rhs=(Nonterminal(\"S1\"),), weight=prob_start_to_s1)\n",
    "\n",
    "    ds2 = DynamicGrammar(s2_grammar.productions())\n",
    "    ds2.update_weight(lhs=Nonterminal(\"START\"), rhs=(Nonterminal(\"S2\"),), weight=1-prob_start_to_s1)\n",
    "\n",
    "    ds1.export_to_file(vocab_filepath='new_S1_Vocab.gr', rules_filepath='new_S1.gr')\n",
    "    ds2.export_to_file(vocab_filepath='new_S2_Vocab.gr', rules_filepath='new_S2.gr')"
   ]
  },
  {
   "attachments": {},
   "cell_type": "markdown",
   "id": "f5ae749b",
   "metadata": {},
   "source": [
    "#### Gustavo's songs:\n",
    "\n",
    "Come Hang Out (parsed)\n",
    "\n",
    "Drama (parsed)\n",
    "\n",
    "I'm not Famous (parsed)\n",
    "\n",
    "Three Thirty (parsed)\n",
    "\n",
    "Turning Out"
   ]
  },
  {
   "cell_type": "code",
   "execution_count": 3232,
   "id": "6cd12650",
   "metadata": {},
   "outputs": [],
   "source": [
    "parsed_trees = parse_file(s1_grammar, './main-data/songs/come-hang-out.sen', verbose=True)"
   ]
  },
  {
   "cell_type": "code",
   "execution_count": 3233,
   "id": "eb8e39c9",
   "metadata": {},
   "outputs": [],
   "source": [
    "parsed_trees = parse_file(s1_grammar, './main-data/songs/drama.sen', verbose=True)"
   ]
  },
  {
   "cell_type": "code",
   "execution_count": 3234,
   "id": "7354b989",
   "metadata": {},
   "outputs": [],
   "source": [
    "parsed_trees = parse_file(s1_grammar, './main-data/songs/im-not-famous.sen', verbose=True)"
   ]
  },
  {
   "cell_type": "code",
   "execution_count": 3235,
   "id": "47a0e61f",
   "metadata": {},
   "outputs": [],
   "source": [
    "parsed_trees = parse_file(s1_grammar, './main-data/songs/three-thirty.sen', verbose=True)"
   ]
  },
  {
   "cell_type": "code",
   "execution_count": 3236,
   "id": "e8d74303",
   "metadata": {},
   "outputs": [],
   "source": [
    "parsed_trees = parse_file(s1_grammar, './main-data/songs/turning-out.sen', verbose=True)"
   ]
  },
  {
   "attachments": {},
   "cell_type": "markdown",
   "id": "56a56733",
   "metadata": {},
   "source": [
    "#### Mckinley's Songs:"
   ]
  },
  {
   "cell_type": "code",
   "execution_count": 3237,
   "id": "b5011ef3",
   "metadata": {},
   "outputs": [],
   "source": [
    "#parsed_trees = parse_file(s1_grammar, './main-data/songs/.sen', verbose=True)"
   ]
  },
  {
   "cell_type": "code",
   "execution_count": 3238,
   "id": "5d4ef527",
   "metadata": {},
   "outputs": [],
   "source": [
    "#generate_random_sentences(merged_grammar, num_sentences=10)"
   ]
  },
  {
   "cell_type": "code",
   "execution_count": 3240,
   "id": "d3f8d823",
   "metadata": {},
   "outputs": [
    {
     "name": "stdout",
     "output_type": "stream",
     "text": [
      "no parse tree found for ``\n"
     ]
    }
   ],
   "source": [
    "parse_sentence(merged_grammar, \"\", verbose = True)"
   ]
  }
 ],
 "metadata": {
  "kernelspec": {
   "display_name": "base",
   "language": "python",
   "name": "python3"
  },
  "language_info": {
   "codemirror_mode": {
    "name": "ipython",
    "version": 3
   },
   "file_extension": ".py",
   "mimetype": "text/x-python",
   "name": "python",
   "nbconvert_exporter": "python",
   "pygments_lexer": "ipython3",
   "version": "3.9.13"
  },
  "vscode": {
   "interpreter": {
    "hash": "cacf55d55b8da163cbba3334a255b453456a412439181a8a6764e2a8cb3484ce"
   }
  }
 },
 "nbformat": 4,
 "nbformat_minor": 5
}
