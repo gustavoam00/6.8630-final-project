{
 "cells": [
  {
   "attachments": {},
   "cell_type": "markdown",
   "id": "33e9a92f",
   "metadata": {},
   "source": [
    "# 6.8630 Final Project"
   ]
  },
  {
   "cell_type": "code",
   "execution_count": 2527,
   "id": "d0942beb",
   "metadata": {},
   "outputs": [],
   "source": [
    "import numpy as np\n",
    "import matplotlib.pyplot as plt\n",
    "import nltk\n",
    "\n",
    "from tools import PcfgGrammar, PcfgGenerator, flatten_tree\n",
    "from tools.grammar import DynamicGrammar\n",
    "from nltk import Nonterminal\n",
    "from nltk.grammar import ProbabilisticProduction\n"
   ]
  },
  {
   "cell_type": "code",
   "execution_count": 2528,
   "id": "03b02f3f",
   "metadata": {},
   "outputs": [],
   "source": [
    "s1_grammar = PcfgGrammar.read_grammar(grammar_files=['./main-data/grammar/S1.gr', './main-data/grammar/S1_Vocab.gr'], allowed_words_file='./main-data/allowed_words.txt')\n",
    "#s2_grammar = PcfgGrammar.read_grammar(grammar_files=['./main-data/grammar/S2.gr', './main-data/grammar/S2_Vocab.gr'], allowed_words_file='./main-data/allowed_words.txt')\n",
    "\n",
    "#merged_grammar = PcfgGrammar.read_grammar(grammar_files=['./main-data/grammar/S1.gr','./main-data/grammar/S1_Vocab.gr','./main-data/grammar/S2.gr','./main-data/grammar/S2_Vocab.gr'], allowed_words_file='./main-data/allowed_words.txt')\n",
    "\n",
    "merged_grammar = s1_grammar"
   ]
  },
  {
   "attachments": {},
   "cell_type": "markdown",
   "id": "dc3a05f9",
   "metadata": {},
   "source": [
    "### Helper Functions"
   ]
  },
  {
   "cell_type": "code",
   "execution_count": 2529,
   "id": "0c6a2ceb",
   "metadata": {},
   "outputs": [],
   "source": [
    "def parse_sentence(grammar, sentence, verbose=False):\n",
    "    \"\"\"\n",
    "        returns the most probable parse\n",
    "        verbose=True prints errors if cannot parse a sentence\n",
    "    \"\"\"\n",
    "    tokens = sentence.split()\n",
    "    try:\n",
    "        tree = grammar.get_most_probable_parse(tokens)\n",
    "        if (tree is None) and verbose:\n",
    "            print(f'no parse tree found for `{sentence}`')\n",
    "        return tree\n",
    "    except ValueError as e:\n",
    "        if verbose:\n",
    "            print(f'cannot parse `{sentence}`')\n",
    "            print(e)\n",
    "        return None\n",
    "\n",
    "\n",
    "def parse_many_sentences(grammar, sentences, verbose=False):\n",
    "    \"\"\"\n",
    "        returns the most probable parse for a list of sentences\n",
    "        verbose=True prints errors if cannot parse a sentence\n",
    "    \"\"\"\n",
    "    parse_trees = []\n",
    "    for line in sentences:\n",
    "        parse_trees.append(parse_sentence(grammar, line, verbose))\n",
    "    return parse_trees\n",
    "\n",
    "\n",
    "def read_file_lines(text_file):\n",
    "    \"\"\"\n",
    "        reads the text_file\n",
    "        returns a list of uncommented lines\n",
    "    \"\"\"\n",
    "    lines = []\n",
    "    with open(text_file, 'r') as f:\n",
    "        for line in f:\n",
    "            line = line.strip()\n",
    "            if line.startswith('#'):\n",
    "                continue  # comment\n",
    "            lines.append(line)\n",
    "    return lines\n",
    "\n",
    "\n",
    "def parse_file(grammar, text_file, verbose=False):\n",
    "    \"\"\"\n",
    "        returns the most probable parse for sentences in the file\n",
    "        verbose=True prints errors if cannot parse a sentence\n",
    "    \"\"\"\n",
    "    sentences = read_file_lines(text_file)\n",
    "    return parse_many_sentences(grammar, sentences, verbose)\n",
    "\n",
    "\n",
    "def cross_entropy_file(grammar, text_file, verbose=False):\n",
    "    \"\"\"\n",
    "        returns the cross_entropy score of parse for sentences in the file\n",
    "        verbose=True prints errors if cannot parse a sentence\n",
    "    \"\"\"\n",
    "    return grammar.get_cross_entropy_over_sentences(read_file_lines(text_file), verbose)\n",
    "\n",
    "def generate_random_sentences(grammar, num_sentences=5, random_seed=0):\n",
    "    gen = PcfgGenerator(grammar=grammar, random_seed=random_seed)\n",
    "    sample_parsed_trees = [gen.generate() for _ in range(num_sentences)]\n",
    "    sample_sentences = [\" \".join(flatten_tree(tree)) for tree in sample_parsed_trees]\n",
    "    return sample_sentences\n",
    "\n",
    "def combine_grammars(s1_grammar, s2_grammar, prob_start_to_s1=0.99):\n",
    "    dynamic_merged = DynamicGrammar(s1_grammar.productions() + s2_grammar.productions())\n",
    "    dynamic_merged.update_weight(lhs=Nonterminal(\"START\"), rhs=(Nonterminal(\"S1\"),), weight=prob_start_to_s1)\n",
    "    dynamic_merged.update_weight(lhs=Nonterminal(\"START\"), rhs=(Nonterminal(\"S2\"),), weight=1-prob_start_to_s1)\n",
    "    merged_grammar = dynamic_merged.get_pcfg_grammar()\n",
    "    return merged_grammar\n",
    "\n",
    "def export_grammars(s1_grammar, s2_grammar, prob_start_to_s1=0.99):\n",
    "    ds1 = DynamicGrammar(s1_grammar.productions())\n",
    "    ds1.update_weight(lhs=Nonterminal(\"START\"), rhs=(Nonterminal(\"S1\"),), weight=prob_start_to_s1)\n",
    "\n",
    "    ds2 = DynamicGrammar(s2_grammar.productions())\n",
    "    ds2.update_weight(lhs=Nonterminal(\"START\"), rhs=(Nonterminal(\"S2\"),), weight=1-prob_start_to_s1)\n",
    "\n",
    "    ds1.export_to_file(vocab_filepath='new_S1_Vocab.gr', rules_filepath='new_S1.gr')\n",
    "    ds2.export_to_file(vocab_filepath='new_S2_Vocab.gr', rules_filepath='new_S2.gr')"
   ]
  },
  {
   "attachments": {},
   "cell_type": "markdown",
   "id": "f5ae749b",
   "metadata": {},
   "source": [
    "#### Gustavo's songs:\n",
    "\n",
    "Come Hang Out (parsed)\n",
    "\n",
    "Drama (parsed)\n",
    "\n",
    "I'm not Famous (parsed)\n",
    "\n",
    "Three Thirty (parsed)"
   ]
  },
  {
   "cell_type": "code",
   "execution_count": 2530,
   "id": "6cd12650",
   "metadata": {},
   "outputs": [],
   "source": [
    "parsed_trees = parse_file(s1_grammar, './main-data/songs/come-hang-out.sen', verbose=True)"
   ]
  },
  {
   "cell_type": "code",
   "execution_count": 2531,
   "id": "eb8e39c9",
   "metadata": {},
   "outputs": [],
   "source": [
    "parsed_trees = parse_file(s1_grammar, './main-data/songs/drama.sen', verbose=True)"
   ]
  },
  {
   "cell_type": "code",
   "execution_count": 2532,
   "id": "7354b989",
   "metadata": {},
   "outputs": [],
   "source": [
    "parsed_trees = parse_file(s1_grammar, './main-data/songs/im-not-famous.sen', verbose=True)"
   ]
  },
  {
   "cell_type": "code",
   "execution_count": 2533,
   "id": "47a0e61f",
   "metadata": {},
   "outputs": [],
   "source": [
    "parsed_trees = parse_file(s1_grammar, './main-data/songs/three-thirty.sen', verbose=True)"
   ]
  },
  {
   "attachments": {},
   "cell_type": "markdown",
   "id": "56a56733",
   "metadata": {},
   "source": [
    "#### Mckinley's Songs:"
   ]
  },
  {
   "cell_type": "code",
   "execution_count": 2534,
   "id": "b5011ef3",
   "metadata": {},
   "outputs": [],
   "source": [
    "#parsed_trees = parse_file(s1_grammar, './main-data/songs/.sen', verbose=True)"
   ]
  },
  {
   "cell_type": "code",
   "execution_count": 2535,
   "id": "5d4ef527",
   "metadata": {},
   "outputs": [],
   "source": [
    "#generate_random_sentences(merged_grammar, num_sentences=10)"
   ]
  },
  {
   "cell_type": "code",
   "execution_count": 2536,
   "id": "d3f8d823",
   "metadata": {},
   "outputs": [
    {
     "data": {
      "image/svg+xml": [
       "<svg baseProfile=\"full\" height=\"552px\" preserveAspectRatio=\"xMidYMid meet\" style=\"font-family: times, serif; font-weight:normal; font-style: normal; font-size: 16px;\" version=\"1.1\" viewBox=\"0,0,352.0,552.0\" width=\"352px\" xmlns=\"http://www.w3.org/2000/svg\" xmlns:ev=\"http://www.w3.org/2001/xml-events\" xmlns:xlink=\"http://www.w3.org/1999/xlink\"><defs /><svg width=\"100%\" x=\"0\" y=\"0em\"><defs /><text text-anchor=\"middle\" x=\"50%\" y=\"1em\">START</text></svg><svg width=\"100%\" x=\"0%\" y=\"3em\"><defs /><svg width=\"100%\" x=\"0\" y=\"0em\"><defs /><text text-anchor=\"middle\" x=\"50%\" y=\"1em\">S3</text></svg><svg width=\"15.9091%\" x=\"0%\" y=\"3em\"><defs /><svg width=\"100%\" x=\"0\" y=\"0em\"><defs /><text text-anchor=\"middle\" x=\"50%\" y=\"1em\">CConj</text></svg><svg width=\"100%\" x=\"0%\" y=\"3em\"><defs /><svg width=\"100%\" x=\"0\" y=\"0em\"><defs /><text text-anchor=\"middle\" x=\"50%\" y=\"1em\">and</text></svg></svg><line stroke=\"black\" x1=\"50%\" x2=\"50%\" y1=\"1.2em\" y2=\"3em\" /></svg><line stroke=\"black\" x1=\"50%\" x2=\"7.95455%\" y1=\"1.2em\" y2=\"3em\" /><svg width=\"84.0909%\" x=\"15.9091%\" y=\"3em\"><defs /><svg width=\"100%\" x=\"0\" y=\"0em\"><defs /><text text-anchor=\"middle\" x=\"50%\" y=\"1em\">S</text></svg><svg width=\"100%\" x=\"0%\" y=\"3em\"><defs /><svg width=\"100%\" x=\"0\" y=\"0em\"><defs /><text text-anchor=\"middle\" x=\"50%\" y=\"1em\">S4</text></svg><svg width=\"43.2432%\" x=\"0%\" y=\"3em\"><defs /><svg width=\"100%\" x=\"0\" y=\"0em\"><defs /><text text-anchor=\"middle\" x=\"50%\" y=\"1em\">S</text></svg><svg width=\"100%\" x=\"0%\" y=\"3em\"><defs /><svg width=\"100%\" x=\"0\" y=\"0em\"><defs /><text text-anchor=\"middle\" x=\"50%\" y=\"1em\">S1</text></svg><svg width=\"50%\" x=\"0%\" y=\"3em\"><defs /><svg width=\"100%\" x=\"0\" y=\"0em\"><defs /><text text-anchor=\"middle\" x=\"50%\" y=\"1em\">ImpAux</text></svg><svg width=\"100%\" x=\"0%\" y=\"3em\"><defs /><svg width=\"100%\" x=\"0\" y=\"0em\"><defs /><text text-anchor=\"middle\" x=\"50%\" y=\"1em\">never</text></svg></svg><line stroke=\"black\" x1=\"50%\" x2=\"50%\" y1=\"1.2em\" y2=\"3em\" /></svg><line stroke=\"black\" x1=\"50%\" x2=\"25%\" y1=\"1.2em\" y2=\"3em\" /><svg width=\"50%\" x=\"50%\" y=\"3em\"><defs /><svg width=\"100%\" x=\"0\" y=\"0em\"><defs /><text text-anchor=\"middle\" x=\"50%\" y=\"1em\">BVerb</text></svg><svg width=\"100%\" x=\"0%\" y=\"3em\"><defs /><svg width=\"100%\" x=\"0\" y=\"0em\"><defs /><text text-anchor=\"middle\" x=\"50%\" y=\"1em\">donate</text></svg></svg><line stroke=\"black\" x1=\"50%\" x2=\"50%\" y1=\"1.2em\" y2=\"3em\" /></svg><line stroke=\"black\" x1=\"50%\" x2=\"75%\" y1=\"1.2em\" y2=\"3em\" /></svg><line stroke=\"black\" x1=\"50%\" x2=\"50%\" y1=\"1.2em\" y2=\"3em\" /></svg><line stroke=\"black\" x1=\"50%\" x2=\"21.6216%\" y1=\"1.2em\" y2=\"3em\" /><svg width=\"56.7568%\" x=\"43.2432%\" y=\"3em\"><defs /><svg width=\"100%\" x=\"0\" y=\"0em\"><defs /><text text-anchor=\"middle\" x=\"50%\" y=\"1em\">S</text></svg><svg width=\"100%\" x=\"0%\" y=\"3em\"><defs /><svg width=\"100%\" x=\"0\" y=\"0em\"><defs /><text text-anchor=\"middle\" x=\"50%\" y=\"1em\">S5</text></svg><svg width=\"100%\" x=\"0%\" y=\"3em\"><defs /><svg width=\"100%\" x=\"0\" y=\"0em\"><defs /><text text-anchor=\"middle\" x=\"50%\" y=\"1em\">PP</text></svg><svg width=\"42.8571%\" x=\"0%\" y=\"3em\"><defs /><svg width=\"100%\" x=\"0\" y=\"0em\"><defs /><text text-anchor=\"middle\" x=\"50%\" y=\"1em\">Prep</text></svg><svg width=\"100%\" x=\"0%\" y=\"3em\"><defs /><svg width=\"100%\" x=\"0\" y=\"0em\"><defs /><text text-anchor=\"middle\" x=\"50%\" y=\"1em\">without</text></svg></svg><line stroke=\"black\" x1=\"50%\" x2=\"50%\" y1=\"1.2em\" y2=\"3em\" /></svg><line stroke=\"black\" x1=\"50%\" x2=\"21.4286%\" y1=\"1.2em\" y2=\"3em\" /><svg width=\"57.1429%\" x=\"42.8571%\" y=\"3em\"><defs /><svg width=\"100%\" x=\"0\" y=\"0em\"><defs /><text text-anchor=\"middle\" x=\"50%\" y=\"1em\">NPO</text></svg><svg width=\"100%\" x=\"0%\" y=\"3em\"><defs /><svg width=\"100%\" x=\"0\" y=\"0em\"><defs /><text text-anchor=\"middle\" x=\"50%\" y=\"1em\">NPX</text></svg><svg width=\"41.6667%\" x=\"0%\" y=\"3em\"><defs /><svg width=\"100%\" x=\"0\" y=\"0em\"><defs /><text text-anchor=\"middle\" x=\"50%\" y=\"1em\">Det</text></svg><svg width=\"100%\" x=\"0%\" y=\"3em\"><defs /><svg width=\"100%\" x=\"0\" y=\"0em\"><defs /><text text-anchor=\"middle\" x=\"50%\" y=\"1em\">the</text></svg></svg><line stroke=\"black\" x1=\"50%\" x2=\"50%\" y1=\"1.2em\" y2=\"3em\" /></svg><line stroke=\"black\" x1=\"50%\" x2=\"20.8333%\" y1=\"1.2em\" y2=\"3em\" /><svg width=\"58.3333%\" x=\"41.6667%\" y=\"3em\"><defs /><svg width=\"100%\" x=\"0\" y=\"0em\"><defs /><text text-anchor=\"middle\" x=\"50%\" y=\"1em\">Nbar</text></svg><svg width=\"100%\" x=\"0%\" y=\"3em\"><defs /><svg width=\"100%\" x=\"0\" y=\"0em\"><defs /><text text-anchor=\"middle\" x=\"50%\" y=\"1em\">Noun</text></svg><svg width=\"100%\" x=\"0%\" y=\"3em\"><defs /><svg width=\"100%\" x=\"0\" y=\"0em\"><defs /><text text-anchor=\"middle\" x=\"50%\" y=\"1em\">press</text></svg></svg><line stroke=\"black\" x1=\"50%\" x2=\"50%\" y1=\"1.2em\" y2=\"3em\" /></svg><line stroke=\"black\" x1=\"50%\" x2=\"50%\" y1=\"1.2em\" y2=\"3em\" /></svg><line stroke=\"black\" x1=\"50%\" x2=\"70.8333%\" y1=\"1.2em\" y2=\"3em\" /></svg><line stroke=\"black\" x1=\"50%\" x2=\"50%\" y1=\"1.2em\" y2=\"3em\" /></svg><line stroke=\"black\" x1=\"50%\" x2=\"71.4286%\" y1=\"1.2em\" y2=\"3em\" /></svg><line stroke=\"black\" x1=\"50%\" x2=\"50%\" y1=\"1.2em\" y2=\"3em\" /></svg><line stroke=\"black\" x1=\"50%\" x2=\"50%\" y1=\"1.2em\" y2=\"3em\" /></svg><line stroke=\"black\" x1=\"50%\" x2=\"71.6216%\" y1=\"1.2em\" y2=\"3em\" /></svg><line stroke=\"black\" x1=\"50%\" x2=\"50%\" y1=\"1.2em\" y2=\"3em\" /></svg><line stroke=\"black\" x1=\"50%\" x2=\"57.9545%\" y1=\"1.2em\" y2=\"3em\" /></svg><line stroke=\"black\" x1=\"50%\" x2=\"50%\" y1=\"1.2em\" y2=\"3em\" /></svg>"
      ],
      "text/plain": [
       "ProbabilisticTree('START', [ProbabilisticTree('S3', [ProbabilisticTree('CConj', ['and']) (p=0.3333333333333333), ProbabilisticTree('S', [ProbabilisticTree('S4', [ProbabilisticTree('S', [ProbabilisticTree('S1', [ProbabilisticTree('ImpAux', ['never']) (p=0.3333333333333333), ProbabilisticTree('BVerb', ['donate']) (p=0.024999999999999994)]) (p=0.0002688172043010751)]) (p=4.4802867383512524e-05), ProbabilisticTree('S', [ProbabilisticTree('S5', [ProbabilisticTree('PP', [ProbabilisticTree('Prep', ['without']) (p=0.041666666666666644), ProbabilisticTree('NPO', [ProbabilisticTree('NPX', [ProbabilisticTree('Det', ['the']) (p=0.09090909090909088), ProbabilisticTree('Nbar', [ProbabilisticTree('Noun', ['press']) (p=0.021739130434782605)]) (p=0.01672240802675585)]) (p=0.0008001152165911882)]) (p=0.0004000576082955941)]) (p=5.209083441348874e-06)]) (p=2.604541720674437e-06)]) (p=4.340902867790723e-07)]) (p=2.739223880427276e-13)]) (p=4.5653731340454655e-14)]) (p=7.608955223409118e-15)]) (p=7.316303099431849e-16)"
      ]
     },
     "execution_count": 2536,
     "metadata": {},
     "output_type": "execute_result"
    }
   ],
   "source": [
    "parse_sentence(merged_grammar, \"and never donate without the press\", verbose = True)"
   ]
  }
 ],
 "metadata": {
  "kernelspec": {
   "display_name": "base",
   "language": "python",
   "name": "python3"
  },
  "language_info": {
   "codemirror_mode": {
    "name": "ipython",
    "version": 3
   },
   "file_extension": ".py",
   "mimetype": "text/x-python",
   "name": "python",
   "nbconvert_exporter": "python",
   "pygments_lexer": "ipython3",
   "version": "3.9.13"
  },
  "vscode": {
   "interpreter": {
    "hash": "cacf55d55b8da163cbba3334a255b453456a412439181a8a6764e2a8cb3484ce"
   }
  }
 },
 "nbformat": 4,
 "nbformat_minor": 5
}
